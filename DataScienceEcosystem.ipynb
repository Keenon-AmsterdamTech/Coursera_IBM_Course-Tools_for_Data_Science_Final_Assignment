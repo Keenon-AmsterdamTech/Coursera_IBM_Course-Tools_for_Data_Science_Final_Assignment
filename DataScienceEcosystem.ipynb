{
  "metadata": {
    "kernelspec": {
      "name": "python",
      "display_name": "Python (Pyodide)",
      "language": "python"
    },
    "language_info": {
      "codemirror_mode": {
        "name": "python",
        "version": 3
      },
      "file_extension": ".py",
      "mimetype": "text/x-python",
      "name": "python",
      "nbconvert_exporter": "python",
      "pygments_lexer": "ipython3",
      "version": "3.8"
    }
  },
  "nbformat_minor": 5,
  "nbformat": 4,
  "cells": [
    {
      "id": "8f051703-3a2a-43c1-88e9-abf6919ca6e1",
      "cell_type": "markdown",
      "source": "# Data Science Tools and Ecosystem",
      "metadata": {}
    },
    {
      "id": "17d3cc39-5f05-41f9-8e1f-0b123396a3c4",
      "cell_type": "markdown",
      "source": "In this notebook, Data Science Tools and Ecosystem are summarized.",
      "metadata": {}
    },
    {
      "id": "ab4211e3-4fbd-420c-8e10-cb4fd2eaf86c",
      "cell_type": "markdown",
      "source": "## Author: \nKeenon Ribberink",
      "metadata": {}
    },
    {
      "id": "d3519cbc-e4f5-45df-babe-2ca377f9b5fd",
      "cell_type": "markdown",
      "source": "**Objectives:**\n- List popular languages used for Data Science\n- (Bonus) I List my favorite programming language\n- List commonly used libraries used for Data Science\n- Create a table of tools that are used in Data Science\n- Show off code that uses artithmetic",
      "metadata": {}
    },
    {
      "id": "843abab5-be38-4abd-9196-164e5d17b643",
      "cell_type": "markdown",
      "source": "Some of the popular languages that Data Scientists use are:",
      "metadata": {}
    },
    {
      "id": "06025f0d-1149-4f3c-a832-93fdf7e21b88",
      "cell_type": "markdown",
      "source": "1. Python\n2. R\n3. Julia\n   ",
      "metadata": {}
    },
    {
      "id": "37114532-2278-4ac6-8f4d-00e732b600af",
      "cell_type": "markdown",
      "source": "My favorite language is Python",
      "metadata": {}
    },
    {
      "id": "b512d3fa-9622-48d8-8c54-c00611c1b5b8",
      "cell_type": "markdown",
      "source": "Some of the commonly used libraries used by Data Scientists include:\n1. Matplotlib\n2. NumPy\n3. Scikit-learn",
      "metadata": {}
    },
    {
      "id": "8a32bb5e-ca49-4517-915c-19450a3cdfb2",
      "cell_type": "markdown",
      "source": "| Data Science Tools |\n| --- |\n| Python |\n| R |\n| Git |",
      "metadata": {}
    },
    {
      "id": "327d060c-1544-4f4c-b2be-186c93a52467",
      "cell_type": "markdown",
      "source": "### Below are a few examples of evaluating arithmetic expressions in Python:",
      "metadata": {}
    },
    {
      "id": "46b9f52e-c005-441a-a4a7-a16f71c95d52",
      "cell_type": "code",
      "source": "# This a simple arithmetic expression to mutiply then add integers\n(3*4)+5",
      "metadata": {
        "trusted": true
      },
      "outputs": [
        {
          "execution_count": 1,
          "output_type": "execute_result",
          "data": {
            "text/plain": "17"
          },
          "metadata": {}
        }
      ],
      "execution_count": 1
    },
    {
      "id": "38b0c822-4c16-4fe3-a09e-f11db06d8c80",
      "cell_type": "code",
      "source": "# This will convert 200 minutes to hours by dividing by 60\n# Also it is weird that the name of the screenshot is hourstominutes when clearly we are turning minutes to hours.\n200 // 60",
      "metadata": {
        "trusted": true
      },
      "outputs": [
        {
          "execution_count": 8,
          "output_type": "execute_result",
          "data": {
            "text/plain": "3"
          },
          "metadata": {}
        }
      ],
      "execution_count": 8
    },
    {
      "id": "2ec5378a-da88-47d9-ab24-9be66f1e3076",
      "cell_type": "code",
      "source": "",
      "metadata": {
        "trusted": true
      },
      "outputs": [],
      "execution_count": null
    },
    {
      "id": "f3377285-7f61-4bf5-9b27-6e4395179d1e",
      "cell_type": "code",
      "source": "",
      "metadata": {
        "trusted": true
      },
      "outputs": [],
      "execution_count": null
    },
    {
      "id": "e83ea938-5100-4b64-9339-2f2003ddae63",
      "cell_type": "code",
      "source": "",
      "metadata": {
        "trusted": true
      },
      "outputs": [],
      "execution_count": null
    }
  ]
}